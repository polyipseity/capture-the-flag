{
 "cells": [
  {
   "cell_type": "code",
   "execution_count": 7,
   "metadata": {},
   "outputs": [],
   "source": [
    "import cv2\n",
    "import numpy\n",
    "import os\n",
    "import pathlib"
   ]
  },
  {
   "cell_type": "code",
   "execution_count": 12,
   "metadata": {},
   "outputs": [
    {
     "data": {
      "text/plain": [
       "92309"
      ]
     },
     "execution_count": 12,
     "metadata": {},
     "output_type": "execute_result"
    }
   ],
   "source": [
    "frames = \"frames\"\n",
    "pathlib.Path(\"down.txt\").write_text(\n",
    "    \"\\n\".join(\n",
    "        \"\".join(\n",
    "            numpy.vectorize(str)(\n",
    "                numpy.vectorize(int)(\n",
    "                    cv2.imread(f\"{frames}/{f}\", cv2.COLOR_RGB2GRAY)[-1, :, 0] >= 128\n",
    "                )\n",
    "            )\n",
    "        )\n",
    "        for f in os.listdir(frames)\n",
    "    )\n",
    ")\n",
    "pathlib.Path(\"right.txt\").write_text(\n",
    "    \"\\n\".join(\n",
    "        \"\".join(\n",
    "            numpy.vectorize(str)(\n",
    "                numpy.vectorize(int)(\n",
    "                    cv2.imread(f\"{frames}/{f}\", cv2.COLOR_RGB2GRAY)[:, -1, 0] >= 128\n",
    "                )\n",
    "            )\n",
    "        )\n",
    "        for f in os.listdir(frames)\n",
    "    )\n",
    ")"
   ]
  },
  {
   "cell_type": "code",
   "execution_count": 11,
   "metadata": {},
   "outputs": [],
   "source": [
    "with open(\"down.txt\") as down:\n",
    "    with open(\"down_decoded.bin\", \"w\") as decoded:\n",
    "        for line in down:\n",
    "            decoded.writelines(\n",
    "                chr(int(\"\".join(byte), 2)) for byte in zip(*((iter(line[:-1]),) * 8))\n",
    "            )\n",
    "            decoded.writelines(\"\\n\")\n",
    "with open(\"right.txt\") as right:\n",
    "    with open(\"right_decoded.bin\", \"w\") as decoded:\n",
    "        for line in right:\n",
    "            decoded.writelines(\n",
    "                chr(int(\"\".join(byte), 2)) for byte in zip(*((iter(line[:-1]),) * 8))\n",
    "            )\n",
    "            decoded.writelines(\"\\n\")"
   ]
  }
 ],
 "metadata": {
  "kernelspec": {
   "display_name": "Python 3",
   "language": "python",
   "name": "python3"
  },
  "language_info": {
   "codemirror_mode": {
    "name": "ipython",
    "version": 3
   },
   "file_extension": ".py",
   "mimetype": "text/x-python",
   "name": "python",
   "nbconvert_exporter": "python",
   "pygments_lexer": "ipython3",
   "version": "3.11.7"
  }
 },
 "nbformat": 4,
 "nbformat_minor": 2
}
